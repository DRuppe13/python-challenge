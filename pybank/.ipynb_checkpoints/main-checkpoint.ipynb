{
 "cells": [
  {
   "cell_type": "code",
   "execution_count": 215,
   "id": "5ec82ce1-634f-4be7-aaab-b3d471a01be8",
   "metadata": {},
   "outputs": [],
   "source": [
    "# Import the pathlib and csv library\n",
    "from pathlib import Path\n",
    "import pandas as pd\n",
    "import csv"
   ]
  },
  {
   "cell_type": "code",
   "execution_count": 216,
   "id": "2aa2ea1a-2283-4d5e-9ac5-d2f2567aa4a3",
   "metadata": {
    "tags": []
   },
   "outputs": [],
   "source": [
    "# Set the file path = Path('budget_data.csv')\n",
    "file_path = Path('budget_data.csv')\n"
   ]
  },
  {
   "cell_type": "code",
   "execution_count": 217,
   "id": "a5473e4c-7efc-455a-a22d-651c5b24f5e8",
   "metadata": {},
   "outputs": [],
   "source": [
    "budget_data = pd.read_csv(file_path)"
   ]
  },
  {
   "cell_type": "code",
   "execution_count": 218,
   "id": "0d97e008-8af6-46d6-a357-668e2990050b",
   "metadata": {
    "tags": []
   },
   "outputs": [],
   "source": [
    "total_months = budget_data['Date'].count()"
   ]
  },
  {
   "cell_type": "code",
   "execution_count": 219,
   "id": "c8409183-e682-43b3-bb2d-7500a43c2dc6",
   "metadata": {},
   "outputs": [
    {
     "data": {
      "text/plain": [
       "86"
      ]
     },
     "execution_count": 219,
     "metadata": {},
     "output_type": "execute_result"
    }
   ],
   "source": [
    "total_months"
   ]
  },
  {
   "cell_type": "code",
   "execution_count": 221,
   "id": "1fd464b5-4dc2-4fec-ba0a-bc040f29b0b4",
   "metadata": {},
   "outputs": [],
   "source": [
    "# Calculate net Profit/Loss\n",
    "profit_loss = budget_data['Profit/Losses'].sum()"
   ]
  },
  {
   "cell_type": "code",
   "execution_count": 223,
   "id": "2e67fd9e-557e-40e8-97b2-55b2957e342c",
   "metadata": {},
   "outputs": [
    {
     "name": "stdout",
     "output_type": "stream",
     "text": [
      "38382578\n"
     ]
    }
   ],
   "source": [
    "print(profit_loss)"
   ]
  },
  {
   "cell_type": "code",
   "execution_count": 225,
   "id": "4ded717d-f8a6-499f-b8ab-6b2b4e0ffd13",
   "metadata": {},
   "outputs": [],
   "source": [
    "# The average of the changes in Profit/Losses over the entire period.change = budget_data_df['Profit/Losses'].diff()\n",
    "change = budget_data['Profit/Losses'].diff()"
   ]
  },
  {
   "cell_type": "code",
   "execution_count": 20,
   "id": "0726411c-154a-455a-a4dd-77d8d1797379",
   "metadata": {},
   "outputs": [
    {
     "name": "stdout",
     "output_type": "stream",
     "text": [
      "0          NaN\n",
      "1     116771.0\n",
      "2    -662642.0\n",
      "3    -391430.0\n",
      "4     379920.0\n",
      "        ...   \n",
      "81   -665765.0\n",
      "82    693229.0\n",
      "83   -734926.0\n",
      "84     77242.0\n",
      "85    532869.0\n",
      "Name: Profit/Losses, Length: 86, dtype: float64\n"
     ]
    }
   ],
   "source": [
    "print(change)"
   ]
  },
  {
   "cell_type": "code",
   "execution_count": 226,
   "id": "524cad7a-67f9-466e-8286-ab3f85bb3d69",
   "metadata": {},
   "outputs": [],
   "source": [
    "avg_change = change.mean()"
   ]
  },
  {
   "cell_type": "code",
   "execution_count": 227,
   "id": "252da1a1-588b-4891-a3d8-78aa5e8c61bd",
   "metadata": {},
   "outputs": [
    {
     "name": "stdout",
     "output_type": "stream",
     "text": [
      "-2315.1176470588234\n"
     ]
    }
   ],
   "source": [
    "print(avg_change)"
   ]
  },
  {
   "cell_type": "code",
   "execution_count": 228,
   "id": "58f54ede-20e1-4eab-8a29-c7bacac994d8",
   "metadata": {},
   "outputs": [
    {
     "name": "stdout",
     "output_type": "stream",
     "text": [
      "1926159.0\n"
     ]
    }
   ],
   "source": [
    "print(great_increase)"
   ]
  },
  {
   "cell_type": "code",
   "execution_count": 229,
   "id": "2e35c133-59a8-4790-9a44-d86a107f4feb",
   "metadata": {},
   "outputs": [
    {
     "data": {
      "text/plain": [
       "0     False\n",
       "1     False\n",
       "2     False\n",
       "3     False\n",
       "4     False\n",
       "      ...  \n",
       "81    False\n",
       "82    False\n",
       "83    False\n",
       "84    False\n",
       "85    False\n",
       "Name: Profit/Losses, Length: 86, dtype: bool"
      ]
     },
     "execution_count": 229,
     "metadata": {},
     "output_type": "execute_result"
    }
   ],
   "source": [
    "# The greatest increase in profits (date and amount) over the entire period.\n",
    "great_increase = change.max()\n",
    "change == change.max()"
   ]
  },
  {
   "cell_type": "code",
   "execution_count": 230,
   "id": "0e633a2a-48e2-40e1-8d9d-4109951d138e",
   "metadata": {},
   "outputs": [
    {
     "data": {
      "text/plain": [
       "25    1926159.0\n",
       "Name: Profit/Losses, dtype: float64"
      ]
     },
     "execution_count": 230,
     "metadata": {},
     "output_type": "execute_result"
    }
   ],
   "source": [
    "change[change == change.max()]"
   ]
  },
  {
   "cell_type": "code",
   "execution_count": 231,
   "id": "32de96e4-34c5-4f04-a105-6e06228096ae",
   "metadata": {},
   "outputs": [],
   "source": [
    "greatest_decrease = change.min()"
   ]
  },
  {
   "cell_type": "code",
   "execution_count": 232,
   "id": "c0a5eab6-fc82-4e86-9113-e4bb2e13685f",
   "metadata": {},
   "outputs": [
    {
     "name": "stdout",
     "output_type": "stream",
     "text": [
      "-2196167.0\n"
     ]
    }
   ],
   "source": [
    "print(greatest_decrease)"
   ]
  },
  {
   "cell_type": "code",
   "execution_count": 233,
   "id": "bc513fc4-bdef-4a7e-a68c-9fee99c34e5b",
   "metadata": {},
   "outputs": [
    {
     "data": {
      "text/plain": [
       "44   -2196167.0\n",
       "Name: Profit/Losses, dtype: float64"
      ]
     },
     "execution_count": 233,
     "metadata": {},
     "output_type": "execute_result"
    }
   ],
   "source": [
    "change[change == change.min()]"
   ]
  },
  {
   "cell_type": "code",
   "execution_count": 234,
   "id": "c569877e-41b2-4e9a-9f60-d01a088f46d8",
   "metadata": {},
   "outputs": [
    {
     "name": "stdout",
     "output_type": "stream",
     "text": [
      "Financial Analysis\n",
      "-----------------------\n",
      "Total Months: 86\n",
      "Total: $38382578\n",
      "Average Change: $-2315.12\n"
     ]
    }
   ],
   "source": [
    "# Print the analysis to the terminal\n",
    "print(\"Financial Analysis\")\n",
    "print(\"-----------------------\")\n",
    "print(f\"Total Months: {total_months}\")\n",
    "print(f\"Total: ${profit_loss}\")\n",
    "print(f\"Average Change: ${avg_change:.2f}\")\n",
    "print(f\"Greatest Increase in Profits: {(change[change == change.max()])(great_increase = change.max())}\n",
    "print(f\"Greatest Decrease in Profits: {change[change == change.min()][greatest_decrease = change.min()]"
   ]
  },
  {
   "cell_type": "code",
   "execution_count": null,
   "id": "1a38367a-e622-46ed-b001-1beabcbcf19f",
   "metadata": {},
   "outputs": [],
   "source": []
  }
 ],
 "metadata": {
  "kernelspec": {
   "display_name": "Python 3 (ipykernel)",
   "language": "python",
   "name": "python3"
  },
  "language_info": {
   "codemirror_mode": {
    "name": "ipython",
    "version": 3
   },
   "file_extension": ".py",
   "mimetype": "text/x-python",
   "name": "python",
   "nbconvert_exporter": "python",
   "pygments_lexer": "ipython3",
   "version": "3.9.13"
  }
 },
 "nbformat": 4,
 "nbformat_minor": 5
}
